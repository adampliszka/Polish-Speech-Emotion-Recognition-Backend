{
 "cells": [
  {
   "cell_type": "markdown",
   "id": "9f6a7054",
   "metadata": {},
   "source": [
    "# Simple Neural Network for Emotion Recognition on nEMO with PyTorch\n",
    "\n",
    "This notebook demonstrates how to train and evaluate a simple feedforward neural network on the nEMO dataset for speech emotion recognition using PyTorch and Torchaudio.\n",
    "\n",
    "We will:\n",
    "1. Load and preprocess the nEMO dataset.\n",
    "2. Extract MFCC features from raw audio.\n",
    "3. Define a simple neural network.\n",
    "4. Train and evaluate the model, reporting accuracy and macro F1 score."
   ]
  },
  {
   "cell_type": "code",
   "id": "0d8e0752",
   "metadata": {
    "ExecuteTime": {
     "end_time": "2025-05-25T13:41:07.932654Z",
     "start_time": "2025-05-25T13:41:04.169699Z"
    }
   },
   "source": [
    "import torch\n",
    "import torch.nn as nn\n",
    "import torch.optim as optim\n",
    "from torch.utils.data import Dataset, DataLoader\n",
    "import torchaudio\n",
    "from datasets import load_dataset, Audio\n",
    "import numpy as np\n",
    "from sklearn.metrics import accuracy_score, f1_score\n"
   ],
   "outputs": [],
   "execution_count": 1
  },
  {
   "cell_type": "code",
   "id": "2ea1926b",
   "metadata": {
    "ExecuteTime": {
     "end_time": "2025-05-25T13:41:09.346291Z",
     "start_time": "2025-05-25T13:41:09.327299Z"
    }
   },
   "source": [
    "DEVICE = torch.device(\"cuda\" if torch.cuda.is_available() else \"cpu\")\n",
    "SAMPLE_RATE = 16_000\n",
    "BATCH_SIZE = 16\n",
    "LEARNING_RATE = 1e-3\n",
    "NUM_EPOCHS = 25\n",
    "N_MFCC = 40\n"
   ],
   "outputs": [],
   "execution_count": 2
  },
  {
   "cell_type": "code",
   "id": "fe17a704",
   "metadata": {
    "ExecuteTime": {
     "end_time": "2025-05-25T13:41:14.234098Z",
     "start_time": "2025-05-25T13:41:11.259157Z"
    }
   },
   "source": [
    "raw_ds = load_dataset('amu-cai/nEMO', split='train')\n",
    "ds = raw_ds.train_test_split(test_size=0.1, seed=42)\n",
    "train_raw = ds['train']\n",
    "eval_raw = ds['test']\n",
    "\n",
    "\n",
    "train_raw = train_raw.cast_column('audio', Audio(sampling_rate=SAMPLE_RATE))\n",
    "eval_raw = eval_raw.cast_column('audio', Audio(sampling_rate=SAMPLE_RATE))\n",
    "\n",
    "\n",
    "emotions = sorted(set(train_raw['emotion']))\n",
    "label2id = {e:i for i,e in enumerate(emotions)}\n",
    "id2label = {i:e for e,i in label2id.items()}\n",
    "NUM_LABELS = len(emotions)\n",
    "print(f\"Found {NUM_LABELS} emotion classes: {emotions}\")"
   ],
   "outputs": [
    {
     "name": "stdout",
     "output_type": "stream",
     "text": [
      "Found 6 emotion classes: ['anger', 'fear', 'happiness', 'neutral', 'sadness', 'surprised']\n"
     ]
    }
   ],
   "execution_count": 3
  },
  {
   "cell_type": "code",
   "id": "14e8d855",
   "metadata": {
    "ExecuteTime": {
     "end_time": "2025-05-25T13:41:14.968817Z",
     "start_time": "2025-05-25T13:41:14.958095Z"
    }
   },
   "source": [
    "mfcc_transform = torchaudio.transforms.MFCC(sample_rate=SAMPLE_RATE, n_mfcc=N_MFCC)\n",
    "\n",
    "class NemoDataset(Dataset):\n",
    "    def __init__(self, hf_dataset):\n",
    "        self.dataset = hf_dataset\n",
    "\n",
    "    def __len__(self):\n",
    "        return len(self.dataset)\n",
    "\n",
    "    def __getitem__(self, idx):\n",
    "        sample = self.dataset[idx]\n",
    "        waveform = torch.tensor(sample['audio']['array']).float()\n",
    "        if waveform.ndim == 1:\n",
    "            waveform = waveform.unsqueeze(0)\n",
    "        mfcc = mfcc_transform(waveform)\n",
    "        feats = mfcc.mean(dim=2).squeeze()\n",
    "        label = label2id[sample['emotion']]\n",
    "        return feats, label\n",
    "\n",
    "torch_train = NemoDataset(train_raw)\n",
    "torch_eval = NemoDataset(eval_raw)\n",
    "\n",
    "train_loader = DataLoader(torch_train, batch_size=BATCH_SIZE, shuffle=True)\n",
    "eval_loader = DataLoader(torch_eval, batch_size=BATCH_SIZE)"
   ],
   "outputs": [
    {
     "name": "stderr",
     "output_type": "stream",
     "text": [
      "C:\\Users\\Adam\\PycharmProjects\\Polish-Speech-Emotion-Recognition\\venv\\Lib\\site-packages\\torchaudio\\functional\\functional.py:584: UserWarning: At least one mel filterbank has all zero values. The value for `n_mels` (128) may be set too high. Or, the value for `n_freqs` (201) may be set too low.\n",
      "  warnings.warn(\n"
     ]
    }
   ],
   "execution_count": 4
  },
  {
   "cell_type": "code",
   "id": "f4451c0f",
   "metadata": {
    "ExecuteTime": {
     "end_time": "2025-05-25T13:41:21.662821Z",
     "start_time": "2025-05-25T13:41:21.545895Z"
    }
   },
   "source": [
    "class SimpleEmotionNet(nn.Module):\n",
    "    def __init__(self, input_dim, hidden_dim, num_classes):\n",
    "        super().__init__()\n",
    "        self.fc1 = nn.Linear(input_dim, hidden_dim)\n",
    "        self.relu = nn.ReLU()\n",
    "        self.dropout = nn.Dropout(0.3)\n",
    "        self.fc2 = nn.Linear(hidden_dim, num_classes)\n",
    "\n",
    "    def forward(self, x):\n",
    "        x = self.fc1(x)\n",
    "        x = self.relu(x)\n",
    "        x = self.dropout(x)\n",
    "        x = self.fc2(x)\n",
    "        return x\n",
    "\n",
    "model = SimpleEmotionNet(input_dim=N_MFCC, hidden_dim=128, num_classes=NUM_LABELS).to(DEVICE)"
   ],
   "outputs": [],
   "execution_count": 5
  },
  {
   "cell_type": "code",
   "id": "a8f70d76",
   "metadata": {
    "ExecuteTime": {
     "end_time": "2025-05-25T13:41:25.253186Z",
     "start_time": "2025-05-25T13:41:23.067158Z"
    }
   },
   "source": [
    "criterion = nn.CrossEntropyLoss()\n",
    "optimizer = optim.Adam(model.parameters(), lr=LEARNING_RATE)"
   ],
   "outputs": [],
   "execution_count": 6
  },
  {
   "cell_type": "code",
   "id": "2768efac",
   "metadata": {
    "ExecuteTime": {
     "end_time": "2025-05-25T13:46:12.073020Z",
     "start_time": "2025-05-25T13:41:26.628566Z"
    }
   },
   "source": [
    "best_val_loss = float('inf')\n",
    "patience = 3\n",
    "counter = 0\n",
    "\n",
    "for epoch in range(1, NUM_EPOCHS + 1):\n",
    "    model.train()\n",
    "    total_loss = 0.0\n",
    "    for feats, labels in train_loader:\n",
    "        feats, labels = feats.to(DEVICE), labels.to(DEVICE)\n",
    "        optimizer.zero_grad()\n",
    "        outputs = model(feats)\n",
    "        loss = criterion(outputs, labels)\n",
    "        loss.backward()\n",
    "        optimizer.step()\n",
    "        total_loss += loss.item() * feats.size(0)\n",
    "    avg_loss = total_loss / len(train_loader.dataset)\n",
    "\n",
    "    model.eval()\n",
    "    val_loss = 0.0\n",
    "    with torch.no_grad():\n",
    "        for feats, labels in eval_loader:\n",
    "            feats, labels = feats.to(DEVICE), labels.to(DEVICE)\n",
    "            outputs = model(feats)\n",
    "            loss = criterion(outputs, labels)\n",
    "            val_loss += loss.item() * feats.size(0)\n",
    "    avg_val_loss = val_loss / len(eval_loader.dataset)\n",
    "\n",
    "    print(f\"Epoch {epoch}/{NUM_EPOCHS}, Train Loss: {avg_loss:.4f}, Val Loss: {avg_val_loss:.4f}\")\n",
    "\n",
    "    if avg_val_loss < best_val_loss:\n",
    "        best_val_loss = avg_val_loss\n",
    "        counter = 0\n",
    "        torch.save(model.state_dict(), 'best_model.pt')  # Save best model\n",
    "    else:\n",
    "        counter += 1\n",
    "        if counter >= patience:\n",
    "            print(\"Early stopping triggered.\")\n",
    "            break"
   ],
   "outputs": [
    {
     "name": "stdout",
     "output_type": "stream",
     "text": [
      "Epoch 1/25, Train Loss: 3.9447, Val Loss: 1.4273\n",
      "Epoch 2/25, Train Loss: 1.4264, Val Loss: 1.2533\n",
      "Epoch 3/25, Train Loss: 1.2703, Val Loss: 1.1281\n",
      "Epoch 4/25, Train Loss: 1.1404, Val Loss: 1.0104\n",
      "Epoch 5/25, Train Loss: 1.0820, Val Loss: 0.9117\n",
      "Epoch 6/25, Train Loss: 1.0086, Val Loss: 0.8519\n",
      "Epoch 7/25, Train Loss: 0.9508, Val Loss: 0.7788\n",
      "Epoch 8/25, Train Loss: 0.8993, Val Loss: 0.7222\n",
      "Epoch 9/25, Train Loss: 0.8589, Val Loss: 0.7925\n",
      "Epoch 10/25, Train Loss: 0.8402, Val Loss: 0.6491\n",
      "Epoch 11/25, Train Loss: 0.7944, Val Loss: 0.6352\n",
      "Epoch 12/25, Train Loss: 0.7683, Val Loss: 0.5876\n",
      "Epoch 13/25, Train Loss: 0.7361, Val Loss: 0.6036\n",
      "Epoch 14/25, Train Loss: 0.7436, Val Loss: 0.5471\n",
      "Epoch 15/25, Train Loss: 0.7083, Val Loss: 0.5476\n",
      "Epoch 16/25, Train Loss: 0.6948, Val Loss: 0.5500\n",
      "Epoch 17/25, Train Loss: 0.6769, Val Loss: 0.5230\n",
      "Epoch 18/25, Train Loss: 0.6644, Val Loss: 0.5290\n",
      "Epoch 19/25, Train Loss: 0.6495, Val Loss: 0.5147\n",
      "Epoch 20/25, Train Loss: 0.6489, Val Loss: 0.5140\n",
      "Epoch 21/25, Train Loss: 0.6225, Val Loss: 0.5140\n",
      "Epoch 22/25, Train Loss: 0.6063, Val Loss: 0.4427\n",
      "Epoch 23/25, Train Loss: 0.5918, Val Loss: 0.4574\n",
      "Epoch 24/25, Train Loss: 0.5591, Val Loss: 0.4592\n",
      "Epoch 25/25, Train Loss: 0.5790, Val Loss: 0.4431\n",
      "Early stopping triggered.\n"
     ]
    }
   ],
   "execution_count": 7
  },
  {
   "cell_type": "code",
   "id": "c703c226",
   "metadata": {
    "ExecuteTime": {
     "end_time": "2025-05-25T13:46:23.133855Z",
     "start_time": "2025-05-25T13:46:22.068568Z"
    }
   },
   "source": [
    "\n",
    "model.eval()\n",
    "all_preds = []\n",
    "all_labels = []\n",
    "with torch.no_grad():\n",
    "    for feats, labels in eval_loader:\n",
    "        feats = feats.to(DEVICE)\n",
    "        logits = model(feats)\n",
    "        preds = torch.argmax(logits, dim=-1).cpu().numpy()\n",
    "        all_preds.extend(preds)\n",
    "        all_labels.extend(labels.numpy())\n",
    "\n",
    "acc = accuracy_score(all_labels, all_preds)\n",
    "f1 = f1_score(all_labels, all_preds, average='macro')\n",
    "print(f\"Evaluation Accuracy: {acc:.4f}\")\n",
    "print(f\"Evaluation Macro F1: {f1:.4f}\")"
   ],
   "outputs": [
    {
     "name": "stdout",
     "output_type": "stream",
     "text": [
      "Evaluation Accuracy: 0.8441\n",
      "Evaluation Macro F1: 0.8388\n"
     ]
    }
   ],
   "execution_count": 9
  }
 ],
 "metadata": {
  "kernelspec": {
   "display_name": ".venv",
   "language": "python",
   "name": "python3"
  },
  "language_info": {
   "codemirror_mode": {
    "name": "ipython",
    "version": 3
   },
   "file_extension": ".py",
   "mimetype": "text/x-python",
   "name": "python",
   "nbconvert_exporter": "python",
   "pygments_lexer": "ipython3",
   "version": "3.12.3"
  }
 },
 "nbformat": 4,
 "nbformat_minor": 5
}
