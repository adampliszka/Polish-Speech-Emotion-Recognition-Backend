{
 "cells": [
  {
   "cell_type": "markdown",
   "id": "2036183f",
   "metadata": {},
   "source": [
    "# Fine-tune HuBERT for Emotion Recognition on nEMO\n",
    "This notebook uses Hugging Face Transformers to fine-tune a HuBERT model for speech emotion recognition on the nEMO dataset."
   ]
  },
  {
   "cell_type": "code",
   "execution_count": 4,
   "id": "e7f11a42",
   "metadata": {},
   "outputs": [],
   "source": [
    "import numpy as np\n",
    "import torch\n",
    "from datasets import load_dataset, Audio\n",
    "from transformers import (\n",
    "    Wav2Vec2FeatureExtractor,\n",
    "    HubertForSequenceClassification,\n",
    "    DataCollatorWithPadding,\n",
    "    TrainingArguments,\n",
    "    Trainer,\n",
    ")\n",
    "import evaluate\n",
    "from sklearn.metrics import accuracy_score, f1_score"
   ]
  },
  {
   "cell_type": "code",
   "execution_count": 5,
   "id": "042a7efe",
   "metadata": {},
   "outputs": [],
   "source": [
    "model_name_or_path = 'facebook/hubert-base-ls960'\n",
    "dataset_name = 'amu-cai/nEMO'\n",
    "output_dir = './hubert-nemo-emotion'\n",
    "per_device_train_batch_size = 8\n",
    "per_device_eval_batch_size = 8\n",
    "learning_rate = 3e-5\n",
    "num_train_epochs = 5\n",
    "eval_steps = 200\n",
    "save_steps = 200"
   ]
  },
  {
   "cell_type": "code",
   "execution_count": 6,
   "id": "1aa67ab7",
   "metadata": {},
   "outputs": [],
   "source": [
    "def prepare_dataset(batch):\n",
    "    audio = batch['audio']['array']\n",
    "    features = feature_extractor(\n",
    "        audio,\n",
    "        sampling_rate=16_000,\n",
    "        return_attention_mask=True,\n",
    "        return_tensors='pt'\n",
    "    )\n",
    "    batch['input_values'] = features.input_values[0].numpy().tolist()\n",
    "    batch['attention_mask'] = features.attention_mask[0].numpy().tolist()\n",
    "    batch['labels'] = label2id[batch['emotion']]\n",
    "    return batch"
   ]
  },
  {
   "cell_type": "code",
   "execution_count": 7,
   "id": "0d6d02dd",
   "metadata": {},
   "outputs": [],
   "source": [
    "def compute_metrics(pred):\n",
    "    preds = np.argmax(pred.predictions, axis=-1)\n",
    "    acc = accuracy_score(pred.label_ids, preds)\n",
    "    f1 = f1_score(pred.label_ids, preds, average='macro')\n",
    "    return {'accuracy': acc, 'f1_macro': f1}"
   ]
  },
  {
   "cell_type": "code",
   "execution_count": 8,
   "id": "efdccaf8",
   "metadata": {},
   "outputs": [],
   "source": [
    "raw = load_dataset(dataset_name, split='train')\n",
    "ds = raw.train_test_split(test_size=0.1, seed=42)\n",
    "train_ds, eval_ds = ds['train'], ds['test']\n",
    "train_ds = train_ds.cast_column('audio', Audio(sampling_rate=16_000))\n",
    "eval_ds = eval_ds.cast_column('audio', Audio(sampling_rate=16_000))"
   ]
  },
  {
   "cell_type": "code",
   "execution_count": 9,
   "id": "92b66b83",
   "metadata": {},
   "outputs": [
    {
     "name": "stderr",
     "output_type": "stream",
     "text": [
      "Some weights of HubertForSequenceClassification were not initialized from the model checkpoint at facebook/hubert-base-ls960 and are newly initialized: ['classifier.bias', 'classifier.weight', 'projector.bias', 'projector.weight']\n",
      "You should probably TRAIN this model on a down-stream task to be able to use it for predictions and inference.\n"
     ]
    }
   ],
   "source": [
    "\n",
    "unique_emotions = sorted(set(train_ds['emotion']))\n",
    "label2id = {emo: i for i, emo in enumerate(unique_emotions)}\n",
    "id2label = {i: emo for emo, i in label2id.items()}\n",
    "\n",
    "feature_extractor = Wav2Vec2FeatureExtractor.from_pretrained(\n",
    "    model_name_or_path,\n",
    "    sampling_rate=16_000,\n",
    "    return_attention_mask=True,\n",
    ")\n",
    "model = HubertForSequenceClassification.from_pretrained(\n",
    "    model_name_or_path,\n",
    "    num_labels=len(unique_emotions),\n",
    "    label2id=label2id,\n",
    "    id2label=id2label,\n",
    "    problem_type='single_label_classification',\n",
    ")"
   ]
  },
  {
   "cell_type": "code",
   "execution_count": 10,
   "id": "ef649e55",
   "metadata": {},
   "outputs": [],
   "source": [
    "train_ds = train_ds.map(\n",
    "    prepare_dataset,\n",
    "    remove_columns=train_ds.column_names,\n",
    "    num_proc=4,\n",
    ")\n",
    "eval_ds = eval_ds.map(\n",
    "    prepare_dataset,\n",
    "    remove_columns=eval_ds.column_names,\n",
    "    num_proc=4,\n",
    ")"
   ]
  },
  {
   "cell_type": "code",
   "execution_count": 11,
   "id": "88bbd515",
   "metadata": {},
   "outputs": [],
   "source": [
    "data_collator = DataCollatorWithPadding(feature_extractor, padding=True)\n",
    "training_args = TrainingArguments(\n",
    "    output_dir=output_dir,\n",
    "    per_device_train_batch_size=per_device_train_batch_size,\n",
    "    per_device_eval_batch_size=per_device_eval_batch_size,\n",
    "    eval_strategy='steps',\n",
    "    eval_steps=eval_steps,\n",
    "    save_steps=save_steps,\n",
    "    learning_rate=learning_rate,\n",
    "    num_train_epochs=num_train_epochs,\n",
    "    logging_steps=100,\n",
    "    load_best_model_at_end=True,\n",
    "    metric_for_best_model='f1_macro',\n",
    "    greater_is_better=True,\n",
    "    fp16=torch.cuda.is_available(),\n",
    "    save_total_limit=2,\n",
    ")"
   ]
  },
  {
   "cell_type": "code",
   "execution_count": null,
   "id": "5fe5e0f0",
   "metadata": {},
   "outputs": [
    {
     "name": "stderr",
     "output_type": "stream",
     "text": [
      "/tmp/ipykernel_14629/3619483742.py:1: FutureWarning: `tokenizer` is deprecated and will be removed in version 5.0.0 for `Trainer.__init__`. Use `processing_class` instead.\n",
      "  trainer = Trainer(\n",
      "\u001b[34m\u001b[1mwandb\u001b[0m: \u001b[33mWARNING\u001b[0m The `run_name` is currently set to the same value as `TrainingArguments.output_dir`. If this was not intended, please specify a different run name by setting the `TrainingArguments.run_name` parameter.\n",
      "\u001b[34m\u001b[1mwandb\u001b[0m: Using wandb-core as the SDK backend.  Please refer to https://wandb.me/wandb-core for more information.\n",
      "\u001b[34m\u001b[1mwandb\u001b[0m: Currently logged in as: \u001b[33madasta146\u001b[0m (\u001b[33madasta146-agh-university-of-science\u001b[0m) to \u001b[32mhttps://api.wandb.ai\u001b[0m. Use \u001b[1m`wandb login --relogin`\u001b[0m to force relogin\n"
     ]
    },
    {
     "data": {
      "text/html": [
       "Tracking run with wandb version 0.19.9"
      ],
      "text/plain": [
       "<IPython.core.display.HTML object>"
      ]
     },
     "metadata": {},
     "output_type": "display_data"
    },
    {
     "data": {
      "text/html": [
       "Run data is saved locally in <code>/home/adam/python-projects/nemo/models/hubert/wandb/run-20250423_141900-6k6zfz6y</code>"
      ],
      "text/plain": [
       "<IPython.core.display.HTML object>"
      ]
     },
     "metadata": {},
     "output_type": "display_data"
    },
    {
     "data": {
      "text/html": [
       "Syncing run <strong><a href='https://wandb.ai/adasta146-agh-university-of-science/SER-nEMO/runs/6k6zfz6y' target=\"_blank\">./hubert-nemo-emotion</a></strong> to <a href='https://wandb.ai/adasta146-agh-university-of-science/SER-nEMO' target=\"_blank\">Weights & Biases</a> (<a href='https://wandb.me/developer-guide' target=\"_blank\">docs</a>)<br>"
      ],
      "text/plain": [
       "<IPython.core.display.HTML object>"
      ]
     },
     "metadata": {},
     "output_type": "display_data"
    },
    {
     "data": {
      "text/html": [
       " View project at <a href='https://wandb.ai/adasta146-agh-university-of-science/SER-nEMO' target=\"_blank\">https://wandb.ai/adasta146-agh-university-of-science/SER-nEMO</a>"
      ],
      "text/plain": [
       "<IPython.core.display.HTML object>"
      ]
     },
     "metadata": {},
     "output_type": "display_data"
    },
    {
     "data": {
      "text/html": [
       " View run at <a href='https://wandb.ai/adasta146-agh-university-of-science/SER-nEMO/runs/6k6zfz6y' target=\"_blank\">https://wandb.ai/adasta146-agh-university-of-science/SER-nEMO/runs/6k6zfz6y</a>"
      ],
      "text/plain": [
       "<IPython.core.display.HTML object>"
      ]
     },
     "metadata": {},
     "output_type": "display_data"
    },
    {
     "data": {
      "text/html": [
       "\n",
       "    <div>\n",
       "      \n",
       "      <progress value='1801' max='2520' style='width:300px; height:20px; vertical-align: middle;'></progress>\n",
       "      [1801/2520 1:02:02 < 24:47, 0.48 it/s, Epoch 3.57/5]\n",
       "    </div>\n",
       "    <table border=\"1\" class=\"dataframe\">\n",
       "  <thead>\n",
       " <tr style=\"text-align: left;\">\n",
       "      <th>Step</th>\n",
       "      <th>Training Loss</th>\n",
       "      <th>Validation Loss</th>\n",
       "      <th>Accuracy</th>\n",
       "      <th>F1 Macro</th>\n",
       "    </tr>\n",
       "  </thead>\n",
       "  <tbody>\n",
       "    <tr>\n",
       "      <td>200</td>\n",
       "      <td>1.452400</td>\n",
       "      <td>1.367296</td>\n",
       "      <td>0.463252</td>\n",
       "      <td>0.368158</td>\n",
       "    </tr>\n",
       "    <tr>\n",
       "      <td>400</td>\n",
       "      <td>1.051600</td>\n",
       "      <td>0.897520</td>\n",
       "      <td>0.668151</td>\n",
       "      <td>0.634232</td>\n",
       "    </tr>\n",
       "    <tr>\n",
       "      <td>600</td>\n",
       "      <td>0.790100</td>\n",
       "      <td>0.732244</td>\n",
       "      <td>0.759465</td>\n",
       "      <td>0.734412</td>\n",
       "    </tr>\n",
       "    <tr>\n",
       "      <td>800</td>\n",
       "      <td>0.597700</td>\n",
       "      <td>0.567662</td>\n",
       "      <td>0.786192</td>\n",
       "      <td>0.772072</td>\n",
       "    </tr>\n",
       "    <tr>\n",
       "      <td>1000</td>\n",
       "      <td>0.467100</td>\n",
       "      <td>0.614862</td>\n",
       "      <td>0.810690</td>\n",
       "      <td>0.799238</td>\n",
       "    </tr>\n",
       "    <tr>\n",
       "      <td>1200</td>\n",
       "      <td>0.383100</td>\n",
       "      <td>0.432717</td>\n",
       "      <td>0.881960</td>\n",
       "      <td>0.877537</td>\n",
       "    </tr>\n",
       "    <tr>\n",
       "      <td>1400</td>\n",
       "      <td>0.292100</td>\n",
       "      <td>0.331783</td>\n",
       "      <td>0.917595</td>\n",
       "      <td>0.914685</td>\n",
       "    </tr>\n",
       "    <tr>\n",
       "      <td>1600</td>\n",
       "      <td>0.265300</td>\n",
       "      <td>0.610934</td>\n",
       "      <td>0.868597</td>\n",
       "      <td>0.854757</td>\n",
       "    </tr>\n",
       "    <tr>\n",
       "      <td>1800</td>\n",
       "      <td>0.258300</td>\n",
       "      <td>0.333507</td>\n",
       "      <td>0.926503</td>\n",
       "      <td>0.923422</td>\n",
       "    </tr>\n",
       "  </tbody>\n",
       "</table><p>"
      ],
      "text/plain": [
       "<IPython.core.display.HTML object>"
      ]
     },
     "metadata": {},
     "output_type": "display_data"
    },
    {
     "name": "stderr",
     "output_type": "stream",
     "text": [
      "\u001b[34m\u001b[1mwandb\u001b[0m: Adding directory to artifact (./hubert-nemo-emotion/checkpoint-200)... Done. 4.7s\n",
      "\u001b[34m\u001b[1mwandb\u001b[0m: Adding directory to artifact (./hubert-nemo-emotion/checkpoint-400)... Done. 3.8s\n",
      "\u001b[34m\u001b[1mwandb\u001b[0m: Adding directory to artifact (./hubert-nemo-emotion/checkpoint-600)... Done. 13.7s\n",
      "\u001b[34m\u001b[1mwandb\u001b[0m: Adding directory to artifact (./hubert-nemo-emotion/checkpoint-800)... Done. 15.6s\n",
      "\u001b[34m\u001b[1mwandb\u001b[0m: Adding directory to artifact (./hubert-nemo-emotion/checkpoint-1000)... Done. 12.1s\n",
      "\u001b[34m\u001b[1mwandb\u001b[0m: Adding directory to artifact (./hubert-nemo-emotion/checkpoint-1200)... Done. 9.6s\n",
      "\u001b[34m\u001b[1mwandb\u001b[0m: Adding directory to artifact (./hubert-nemo-emotion/checkpoint-1400)... Done. 15.7s\n",
      "\u001b[34m\u001b[1mwandb\u001b[0m: Adding directory to artifact (./hubert-nemo-emotion/checkpoint-1600)... Done. 22.9s\n",
      "\u001b[34m\u001b[1mwandb\u001b[0m: Adding directory to artifact (./hubert-nemo-emotion/checkpoint-1800)... "
     ]
    }
   ],
   "source": [
    "trainer = Trainer(\n",
    "    model=model,\n",
    "    args=training_args,\n",
    "    train_dataset=train_ds,\n",
    "    eval_dataset=eval_ds,\n",
    "    data_collator=data_collator,\n",
    "    tokenizer=feature_extractor,\n",
    "    compute_metrics=compute_metrics,\n",
    ")\n",
    "\n",
    "trainer.train()\n",
    "trainer.save_model(output_dir)"
   ]
  },
  {
   "cell_type": "code",
   "execution_count": null,
   "id": "d6de6012",
   "metadata": {},
   "outputs": [],
   "source": []
  }
 ],
 "metadata": {
  "kernelspec": {
   "display_name": ".venv",
   "language": "python",
   "name": "python3"
  },
  "language_info": {
   "codemirror_mode": {
    "name": "ipython",
    "version": 3
   },
   "file_extension": ".py",
   "mimetype": "text/x-python",
   "name": "python",
   "nbconvert_exporter": "python",
   "pygments_lexer": "ipython3",
   "version": "3.12.3"
  }
 },
 "nbformat": 4,
 "nbformat_minor": 5
}
